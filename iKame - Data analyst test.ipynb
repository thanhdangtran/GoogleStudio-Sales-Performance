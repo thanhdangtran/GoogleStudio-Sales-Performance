{
 "cells": [
  {
   "attachments": {},
   "cell_type": "markdown",
   "metadata": {},
   "source": [
    "# Data Analyst iKame Test "
   ]
  },
  {
   "attachments": {},
   "cell_type": "markdown",
   "metadata": {},
   "source": [
    "    To increase revenue and profit, I recommend:\n",
    "        1. Increasing the number of new customers\n",
    "        2. Increasing the repurchase rate\n",
    "        3. Increasing the selling price and reduce cost of goods sold\n",
    "    -> In the given data, I will analyze factors 1 and 2. Factor 3 needs to observe corporate financial statements and additional information to make a decision"
   ]
  },
  {
   "attachments": {},
   "cell_type": "markdown",
   "metadata": {},
   "source": [
    "    For a better suggestion I need the inventory table about product name, the time in stock and the discounted selling price. This table is an important factor of a retail business to make a decision to import goods, liquidate inventory that is too long."
   ]
  },
  {
   "cell_type": "code",
   "execution_count": 64,
   "metadata": {},
   "outputs": [],
   "source": [
    "# Import the libraries\n",
    "import pandas as pd\n",
    "import numpy as np\n",
    "import seaborn as sns\n",
    "import matplotlib.pyplot as plt"
   ]
  },
  {
   "cell_type": "code",
   "execution_count": 70,
   "metadata": {},
   "outputs": [
    {
     "data": {
      "text/html": [
       "<div>\n",
       "<style scoped>\n",
       "    .dataframe tbody tr th:only-of-type {\n",
       "        vertical-align: middle;\n",
       "    }\n",
       "\n",
       "    .dataframe tbody tr th {\n",
       "        vertical-align: top;\n",
       "    }\n",
       "\n",
       "    .dataframe thead th {\n",
       "        text-align: right;\n",
       "    }\n",
       "</style>\n",
       "<table border=\"1\" class=\"dataframe\">\n",
       "  <thead>\n",
       "    <tr style=\"text-align: right;\">\n",
       "      <th></th>\n",
       "      <th>ProductKey</th>\n",
       "      <th>OrderDateKey</th>\n",
       "      <th>CustomerKey</th>\n",
       "      <th>SalesTerritoryKey</th>\n",
       "      <th>SalesOrderNumber</th>\n",
       "      <th>SalesOrderLineNumber</th>\n",
       "      <th>OrderQuantity</th>\n",
       "      <th>UnitPrice</th>\n",
       "      <th>TotalProductCost</th>\n",
       "      <th>TaxAmount</th>\n",
       "      <th>SalesAmount</th>\n",
       "      <th>OrderDate</th>\n",
       "    </tr>\n",
       "  </thead>\n",
       "  <tbody>\n",
       "    <tr>\n",
       "      <th>0</th>\n",
       "      <td>528</td>\n",
       "      <td>20130128</td>\n",
       "      <td>14870</td>\n",
       "      <td>4</td>\n",
       "      <td>SO51900</td>\n",
       "      <td>1</td>\n",
       "      <td>1</td>\n",
       "      <td>4.99</td>\n",
       "      <td>1.87</td>\n",
       "      <td>0.3992</td>\n",
       "      <td>5.0</td>\n",
       "      <td>2013-01-28</td>\n",
       "    </tr>\n",
       "    <tr>\n",
       "      <th>1</th>\n",
       "      <td>528</td>\n",
       "      <td>20130129</td>\n",
       "      <td>15319</td>\n",
       "      <td>4</td>\n",
       "      <td>SO51948</td>\n",
       "      <td>1</td>\n",
       "      <td>1</td>\n",
       "      <td>4.99</td>\n",
       "      <td>1.87</td>\n",
       "      <td>0.3992</td>\n",
       "      <td>5.0</td>\n",
       "      <td>2013-01-29</td>\n",
       "    </tr>\n",
       "    <tr>\n",
       "      <th>2</th>\n",
       "      <td>528</td>\n",
       "      <td>20130131</td>\n",
       "      <td>16384</td>\n",
       "      <td>4</td>\n",
       "      <td>SO52043</td>\n",
       "      <td>1</td>\n",
       "      <td>1</td>\n",
       "      <td>4.99</td>\n",
       "      <td>1.87</td>\n",
       "      <td>0.3992</td>\n",
       "      <td>5.0</td>\n",
       "      <td>2013-01-31</td>\n",
       "    </tr>\n",
       "    <tr>\n",
       "      <th>3</th>\n",
       "      <td>528</td>\n",
       "      <td>20130131</td>\n",
       "      <td>15476</td>\n",
       "      <td>4</td>\n",
       "      <td>SO52045</td>\n",
       "      <td>1</td>\n",
       "      <td>1</td>\n",
       "      <td>4.99</td>\n",
       "      <td>1.87</td>\n",
       "      <td>0.3992</td>\n",
       "      <td>5.0</td>\n",
       "      <td>2013-01-31</td>\n",
       "    </tr>\n",
       "    <tr>\n",
       "      <th>4</th>\n",
       "      <td>528</td>\n",
       "      <td>20130201</td>\n",
       "      <td>15861</td>\n",
       "      <td>4</td>\n",
       "      <td>SO52094</td>\n",
       "      <td>1</td>\n",
       "      <td>1</td>\n",
       "      <td>4.99</td>\n",
       "      <td>1.87</td>\n",
       "      <td>0.3992</td>\n",
       "      <td>5.0</td>\n",
       "      <td>2013-02-01</td>\n",
       "    </tr>\n",
       "  </tbody>\n",
       "</table>\n",
       "</div>"
      ],
      "text/plain": [
       "   ProductKey  OrderDateKey  CustomerKey  SalesTerritoryKey SalesOrderNumber  \\\n",
       "0         528      20130128        14870                  4          SO51900   \n",
       "1         528      20130129        15319                  4          SO51948   \n",
       "2         528      20130131        16384                  4          SO52043   \n",
       "3         528      20130131        15476                  4          SO52045   \n",
       "4         528      20130201        15861                  4          SO52094   \n",
       "\n",
       "   SalesOrderLineNumber  OrderQuantity  UnitPrice  TotalProductCost  \\\n",
       "0                     1              1       4.99              1.87   \n",
       "1                     1              1       4.99              1.87   \n",
       "2                     1              1       4.99              1.87   \n",
       "3                     1              1       4.99              1.87   \n",
       "4                     1              1       4.99              1.87   \n",
       "\n",
       "   TaxAmount  SalesAmount   OrderDate  \n",
       "0     0.3992          5.0  2013-01-28  \n",
       "1     0.3992          5.0  2013-01-29  \n",
       "2     0.3992          5.0  2013-01-31  \n",
       "3     0.3992          5.0  2013-01-31  \n",
       "4     0.3992          5.0  2013-02-01  "
      ]
     },
     "execution_count": 70,
     "metadata": {},
     "output_type": "execute_result"
    }
   ],
   "source": [
    "# Preview the dataframe\n",
    "sales = pd.read_csv(\"f_sales - Sheet1.csv\")\n",
    "sales.head()"
   ]
  },
  {
   "cell_type": "code",
   "execution_count": 90,
   "metadata": {},
   "outputs": [
    {
     "data": {
      "text/html": [
       "<div>\n",
       "<style scoped>\n",
       "    .dataframe tbody tr th:only-of-type {\n",
       "        vertical-align: middle;\n",
       "    }\n",
       "\n",
       "    .dataframe tbody tr th {\n",
       "        vertical-align: top;\n",
       "    }\n",
       "\n",
       "    .dataframe thead th {\n",
       "        text-align: right;\n",
       "    }\n",
       "</style>\n",
       "<table border=\"1\" class=\"dataframe\">\n",
       "  <thead>\n",
       "    <tr style=\"text-align: right;\">\n",
       "      <th></th>\n",
       "      <th>CustomerKey</th>\n",
       "      <th>GeographyKey</th>\n",
       "      <th>CustomerAlternateKey</th>\n",
       "      <th>FirstName</th>\n",
       "      <th>LastName</th>\n",
       "      <th>BirthDate</th>\n",
       "      <th>MaritalStatus</th>\n",
       "      <th>Gender</th>\n",
       "      <th>YearlyIncome</th>\n",
       "      <th>TotalChildren</th>\n",
       "      <th>NumberChildrenAtHome</th>\n",
       "      <th>Education</th>\n",
       "      <th>Occupation</th>\n",
       "      <th>NumberCarsOwned</th>\n",
       "      <th>DateFirstPurchase</th>\n",
       "      <th>CommuteDistance</th>\n",
       "      <th>BirthYear</th>\n",
       "      <th>FirstPurchaseYear</th>\n",
       "      <th>FirstPurchaseAge</th>\n",
       "      <th>Age</th>\n",
       "    </tr>\n",
       "  </thead>\n",
       "  <tbody>\n",
       "    <tr>\n",
       "      <th>0</th>\n",
       "      <td>11602</td>\n",
       "      <td>135</td>\n",
       "      <td>AW00011602</td>\n",
       "      <td>Larry</td>\n",
       "      <td>Gill</td>\n",
       "      <td>1982-10-11</td>\n",
       "      <td>S</td>\n",
       "      <td>M</td>\n",
       "      <td>£30,000</td>\n",
       "      <td>0</td>\n",
       "      <td>0</td>\n",
       "      <td>Partial College</td>\n",
       "      <td>Clerical</td>\n",
       "      <td>1</td>\n",
       "      <td>2013-07-10</td>\n",
       "      <td>2-5 Miles</td>\n",
       "      <td>1982</td>\n",
       "      <td>2013</td>\n",
       "      <td>31</td>\n",
       "      <td>25-34</td>\n",
       "    </tr>\n",
       "    <tr>\n",
       "      <th>1</th>\n",
       "      <td>11603</td>\n",
       "      <td>244</td>\n",
       "      <td>AW00011603</td>\n",
       "      <td>Geoffrey</td>\n",
       "      <td>Gonzalez</td>\n",
       "      <td>1982-08-06</td>\n",
       "      <td>S</td>\n",
       "      <td>M</td>\n",
       "      <td>£30,000</td>\n",
       "      <td>0</td>\n",
       "      <td>0</td>\n",
       "      <td>Partial College</td>\n",
       "      <td>Clerical</td>\n",
       "      <td>1</td>\n",
       "      <td>2012-01-18</td>\n",
       "      <td>0-1 Miles</td>\n",
       "      <td>1982</td>\n",
       "      <td>2012</td>\n",
       "      <td>30</td>\n",
       "      <td>25-34</td>\n",
       "    </tr>\n",
       "    <tr>\n",
       "      <th>2</th>\n",
       "      <td>11610</td>\n",
       "      <td>269</td>\n",
       "      <td>AW00011610</td>\n",
       "      <td>Blake</td>\n",
       "      <td>Collins</td>\n",
       "      <td>1980-10-20</td>\n",
       "      <td>S</td>\n",
       "      <td>M</td>\n",
       "      <td>£30,000</td>\n",
       "      <td>0</td>\n",
       "      <td>0</td>\n",
       "      <td>Partial College</td>\n",
       "      <td>Clerical</td>\n",
       "      <td>1</td>\n",
       "      <td>2012-01-10</td>\n",
       "      <td>0-1 Miles</td>\n",
       "      <td>1980</td>\n",
       "      <td>2012</td>\n",
       "      <td>32</td>\n",
       "      <td>25-34</td>\n",
       "    </tr>\n",
       "    <tr>\n",
       "      <th>3</th>\n",
       "      <td>12517</td>\n",
       "      <td>133</td>\n",
       "      <td>AW00012517</td>\n",
       "      <td>Alexa</td>\n",
       "      <td>Watson</td>\n",
       "      <td>1983-02-22</td>\n",
       "      <td>S</td>\n",
       "      <td>F</td>\n",
       "      <td>£30,000</td>\n",
       "      <td>0</td>\n",
       "      <td>0</td>\n",
       "      <td>Partial College</td>\n",
       "      <td>Clerical</td>\n",
       "      <td>1</td>\n",
       "      <td>2013-10-19</td>\n",
       "      <td>2-5 Miles</td>\n",
       "      <td>1983</td>\n",
       "      <td>2013</td>\n",
       "      <td>30</td>\n",
       "      <td>25-34</td>\n",
       "    </tr>\n",
       "    <tr>\n",
       "      <th>4</th>\n",
       "      <td>12518</td>\n",
       "      <td>161</td>\n",
       "      <td>AW00012518</td>\n",
       "      <td>Jacquelyn</td>\n",
       "      <td>Dominguez</td>\n",
       "      <td>1983-03-27</td>\n",
       "      <td>S</td>\n",
       "      <td>F</td>\n",
       "      <td>£30,000</td>\n",
       "      <td>0</td>\n",
       "      <td>0</td>\n",
       "      <td>Partial College</td>\n",
       "      <td>Clerical</td>\n",
       "      <td>1</td>\n",
       "      <td>2013-08-01</td>\n",
       "      <td>2-5 Miles</td>\n",
       "      <td>1983</td>\n",
       "      <td>2013</td>\n",
       "      <td>30</td>\n",
       "      <td>25-34</td>\n",
       "    </tr>\n",
       "  </tbody>\n",
       "</table>\n",
       "</div>"
      ],
      "text/plain": [
       "   CustomerKey  GeographyKey CustomerAlternateKey  FirstName   LastName  \\\n",
       "0        11602           135           AW00011602      Larry       Gill   \n",
       "1        11603           244           AW00011603   Geoffrey   Gonzalez   \n",
       "2        11610           269           AW00011610      Blake    Collins   \n",
       "3        12517           133           AW00012517      Alexa     Watson   \n",
       "4        12518           161           AW00012518  Jacquelyn  Dominguez   \n",
       "\n",
       "    BirthDate MaritalStatus Gender YearlyIncome  TotalChildren  \\\n",
       "0  1982-10-11             S      M      £30,000              0   \n",
       "1  1982-08-06             S      M      £30,000              0   \n",
       "2  1980-10-20             S      M      £30,000              0   \n",
       "3  1983-02-22             S      F      £30,000              0   \n",
       "4  1983-03-27             S      F      £30,000              0   \n",
       "\n",
       "   NumberChildrenAtHome        Education Occupation  NumberCarsOwned  \\\n",
       "0                     0  Partial College   Clerical                1   \n",
       "1                     0  Partial College   Clerical                1   \n",
       "2                     0  Partial College   Clerical                1   \n",
       "3                     0  Partial College   Clerical                1   \n",
       "4                     0  Partial College   Clerical                1   \n",
       "\n",
       "  DateFirstPurchase CommuteDistance  BirthYear  FirstPurchaseYear  \\\n",
       "0        2013-07-10       2-5 Miles       1982               2013   \n",
       "1        2012-01-18       0-1 Miles       1982               2012   \n",
       "2        2012-01-10       0-1 Miles       1980               2012   \n",
       "3        2013-10-19       2-5 Miles       1983               2013   \n",
       "4        2013-08-01       2-5 Miles       1983               2013   \n",
       "\n",
       "   FirstPurchaseAge    Age  \n",
       "0                31  25-34  \n",
       "1                30  25-34  \n",
       "2                32  25-34  \n",
       "3                30  25-34  \n",
       "4                30  25-34  "
      ]
     },
     "execution_count": 90,
     "metadata": {},
     "output_type": "execute_result"
    }
   ],
   "source": [
    "customer = pd.read_csv(\"d_customer - Sheet1.csv\")\n",
    "customer.head()"
   ]
  },
  {
   "cell_type": "code",
   "execution_count": 101,
   "metadata": {},
   "outputs": [
    {
     "data": {
      "text/html": [
       "<div>\n",
       "<style scoped>\n",
       "    .dataframe tbody tr th:only-of-type {\n",
       "        vertical-align: middle;\n",
       "    }\n",
       "\n",
       "    .dataframe tbody tr th {\n",
       "        vertical-align: top;\n",
       "    }\n",
       "\n",
       "    .dataframe thead th {\n",
       "        text-align: right;\n",
       "    }\n",
       "</style>\n",
       "<table border=\"1\" class=\"dataframe\">\n",
       "  <thead>\n",
       "    <tr style=\"text-align: right;\">\n",
       "      <th></th>\n",
       "      <th>ProductKey</th>\n",
       "      <th>OrderDateKey</th>\n",
       "      <th>CustomerKey</th>\n",
       "      <th>SalesTerritoryKey</th>\n",
       "      <th>SalesOrderNumber</th>\n",
       "      <th>SalesOrderLineNumber</th>\n",
       "      <th>OrderQuantity</th>\n",
       "      <th>UnitPrice</th>\n",
       "      <th>TotalProductCost</th>\n",
       "      <th>TaxAmount</th>\n",
       "      <th>...</th>\n",
       "      <th>NumberChildrenAtHome_y</th>\n",
       "      <th>Education_y</th>\n",
       "      <th>Occupation_y</th>\n",
       "      <th>NumberCarsOwned_y</th>\n",
       "      <th>DateFirstPurchase_y</th>\n",
       "      <th>CommuteDistance_y</th>\n",
       "      <th>BirthYear_y</th>\n",
       "      <th>FirstPurchaseYear_y</th>\n",
       "      <th>FirstPurchaseAge_y</th>\n",
       "      <th>Age_y</th>\n",
       "    </tr>\n",
       "  </thead>\n",
       "  <tbody>\n",
       "    <tr>\n",
       "      <th>0</th>\n",
       "      <td>528</td>\n",
       "      <td>20130128</td>\n",
       "      <td>14870</td>\n",
       "      <td>4</td>\n",
       "      <td>SO51900</td>\n",
       "      <td>1</td>\n",
       "      <td>1</td>\n",
       "      <td>4.99</td>\n",
       "      <td>1.87</td>\n",
       "      <td>0.3992</td>\n",
       "      <td>...</td>\n",
       "      <td>3</td>\n",
       "      <td>Partial College</td>\n",
       "      <td>Clerical</td>\n",
       "      <td>2</td>\n",
       "      <td>2013-01-28</td>\n",
       "      <td>0-1 Miles</td>\n",
       "      <td>1979</td>\n",
       "      <td>2013</td>\n",
       "      <td>34</td>\n",
       "      <td>25-34</td>\n",
       "    </tr>\n",
       "    <tr>\n",
       "      <th>1</th>\n",
       "      <td>528</td>\n",
       "      <td>20130129</td>\n",
       "      <td>15319</td>\n",
       "      <td>4</td>\n",
       "      <td>SO51948</td>\n",
       "      <td>1</td>\n",
       "      <td>1</td>\n",
       "      <td>4.99</td>\n",
       "      <td>1.87</td>\n",
       "      <td>0.3992</td>\n",
       "      <td>...</td>\n",
       "      <td>1</td>\n",
       "      <td>Bachelors</td>\n",
       "      <td>Management</td>\n",
       "      <td>1</td>\n",
       "      <td>2013-01-29</td>\n",
       "      <td>1-2 Miles</td>\n",
       "      <td>1952</td>\n",
       "      <td>2013</td>\n",
       "      <td>61</td>\n",
       "      <td>55-64</td>\n",
       "    </tr>\n",
       "    <tr>\n",
       "      <th>2</th>\n",
       "      <td>528</td>\n",
       "      <td>20130131</td>\n",
       "      <td>16384</td>\n",
       "      <td>4</td>\n",
       "      <td>SO52043</td>\n",
       "      <td>1</td>\n",
       "      <td>1</td>\n",
       "      <td>4.99</td>\n",
       "      <td>1.87</td>\n",
       "      <td>0.3992</td>\n",
       "      <td>...</td>\n",
       "      <td>0</td>\n",
       "      <td>Graduate Degree</td>\n",
       "      <td>Skilled Manual</td>\n",
       "      <td>0</td>\n",
       "      <td>2013-01-31</td>\n",
       "      <td>0-1 Miles</td>\n",
       "      <td>1964</td>\n",
       "      <td>2013</td>\n",
       "      <td>49</td>\n",
       "      <td>45-54</td>\n",
       "    </tr>\n",
       "    <tr>\n",
       "      <th>3</th>\n",
       "      <td>528</td>\n",
       "      <td>20130131</td>\n",
       "      <td>15476</td>\n",
       "      <td>4</td>\n",
       "      <td>SO52045</td>\n",
       "      <td>1</td>\n",
       "      <td>1</td>\n",
       "      <td>4.99</td>\n",
       "      <td>1.87</td>\n",
       "      <td>0.3992</td>\n",
       "      <td>...</td>\n",
       "      <td>0</td>\n",
       "      <td>Graduate Degree</td>\n",
       "      <td>Professional</td>\n",
       "      <td>0</td>\n",
       "      <td>2013-01-31</td>\n",
       "      <td>2-5 Miles</td>\n",
       "      <td>1975</td>\n",
       "      <td>2013</td>\n",
       "      <td>38</td>\n",
       "      <td>35-44</td>\n",
       "    </tr>\n",
       "    <tr>\n",
       "      <th>4</th>\n",
       "      <td>528</td>\n",
       "      <td>20130201</td>\n",
       "      <td>15861</td>\n",
       "      <td>4</td>\n",
       "      <td>SO52094</td>\n",
       "      <td>1</td>\n",
       "      <td>1</td>\n",
       "      <td>4.99</td>\n",
       "      <td>1.87</td>\n",
       "      <td>0.3992</td>\n",
       "      <td>...</td>\n",
       "      <td>4</td>\n",
       "      <td>Partial College</td>\n",
       "      <td>Clerical</td>\n",
       "      <td>2</td>\n",
       "      <td>2013-02-01</td>\n",
       "      <td>0-1 Miles</td>\n",
       "      <td>1977</td>\n",
       "      <td>2013</td>\n",
       "      <td>36</td>\n",
       "      <td>35-44</td>\n",
       "    </tr>\n",
       "  </tbody>\n",
       "</table>\n",
       "<p>5 rows × 50 columns</p>\n",
       "</div>"
      ],
      "text/plain": [
       "   ProductKey  OrderDateKey  CustomerKey  SalesTerritoryKey SalesOrderNumber  \\\n",
       "0         528      20130128        14870                  4          SO51900   \n",
       "1         528      20130129        15319                  4          SO51948   \n",
       "2         528      20130131        16384                  4          SO52043   \n",
       "3         528      20130131        15476                  4          SO52045   \n",
       "4         528      20130201        15861                  4          SO52094   \n",
       "\n",
       "   SalesOrderLineNumber  OrderQuantity  UnitPrice  TotalProductCost  \\\n",
       "0                     1              1       4.99              1.87   \n",
       "1                     1              1       4.99              1.87   \n",
       "2                     1              1       4.99              1.87   \n",
       "3                     1              1       4.99              1.87   \n",
       "4                     1              1       4.99              1.87   \n",
       "\n",
       "   TaxAmount  ...  NumberChildrenAtHome_y      Education_y    Occupation_y  \\\n",
       "0     0.3992  ...                       3  Partial College        Clerical   \n",
       "1     0.3992  ...                       1        Bachelors      Management   \n",
       "2     0.3992  ...                       0  Graduate Degree  Skilled Manual   \n",
       "3     0.3992  ...                       0  Graduate Degree    Professional   \n",
       "4     0.3992  ...                       4  Partial College        Clerical   \n",
       "\n",
       "  NumberCarsOwned_y DateFirstPurchase_y CommuteDistance_y BirthYear_y  \\\n",
       "0                 2          2013-01-28         0-1 Miles        1979   \n",
       "1                 1          2013-01-29         1-2 Miles        1952   \n",
       "2                 0          2013-01-31         0-1 Miles        1964   \n",
       "3                 0          2013-01-31         2-5 Miles        1975   \n",
       "4                 2          2013-02-01         0-1 Miles        1977   \n",
       "\n",
       "  FirstPurchaseYear_y FirstPurchaseAge_y  Age_y  \n",
       "0                2013                 34  25-34  \n",
       "1                2013                 61  55-64  \n",
       "2                2013                 49  45-54  \n",
       "3                2013                 38  35-44  \n",
       "4                2013                 36  35-44  \n",
       "\n",
       "[5 rows x 50 columns]"
      ]
     },
     "execution_count": 101,
     "metadata": {},
     "output_type": "execute_result"
    }
   ],
   "source": [
    "df = pd.merge(sales, customer, how=\"left\", on=[\"CustomerKey\"])\n",
    "df.head()"
   ]
  },
  {
   "attachments": {},
   "cell_type": "markdown",
   "metadata": {},
   "source": [
    "### 1. Increasing the number of new customers"
   ]
  },
  {
   "attachments": {},
   "cell_type": "markdown",
   "metadata": {},
   "source": [
    "To increase the number of new customers, we can develop marketing to potential customers."
   ]
  },
  {
   "cell_type": "code",
   "execution_count": 121,
   "metadata": {},
   "outputs": [
    {
     "data": {
      "text/plain": [
       "Age_x  MaritalStatus_x  Gender_x\n",
       "35-44  S                F           3077775.0\n",
       "       M                M           2594259.0\n",
       "                        F           2569212.0\n",
       "       S                M           2563922.0\n",
       "25-34  S                F           2282209.0\n",
       "                        M           2137129.0\n",
       "45-54  M                M           2128262.0\n",
       "                        F           1877022.0\n",
       "25-34  M                M           1822282.0\n",
       "                        F           1561402.0\n",
       "45-54  S                F           1461842.0\n",
       "                        M           1308584.0\n",
       "55-64  M                M           1066664.0\n",
       "                        F            996861.0\n",
       "       S                F            548999.0\n",
       "                        M            435135.0\n",
       "65+    M                M            308121.0\n",
       "                        F            261767.0\n",
       "       S                M            179248.0\n",
       "                        F            175015.0\n",
       "Name: SalesAmount, dtype: float64"
      ]
     },
     "execution_count": 121,
     "metadata": {},
     "output_type": "execute_result"
    }
   ],
   "source": [
    "customer_demographic = df.groupby(['Age_x','MaritalStatus_x','Gender_x'])['SalesAmount'].sum().sort_values(ascending=False)\n",
    "customer_demographic"
   ]
  },
  {
   "cell_type": "code",
   "execution_count": 122,
   "metadata": {},
   "outputs": [
    {
     "data": {
      "image/png": "[encoded data removed]",
      "text/plain": [
       "<Figure size 640x480 with 1 Axes>"
      ]
     },
     "metadata": {},
     "output_type": "display_data"
    }
   ],
   "source": [
    "customer_demographic.plot(x=[\"Age_x\", \"User MaritalStatus_x\",\"Gender_x\"], y=\"SalesAmount\", kind=\"bar\")\n",
    "\n",
    "plt.xlabel('Customer Demographic')\n",
    "plt.ylabel('Total Sales Amount')\n",
    "\n",
    "plt.show()"
   ]
  },
  {
   "attachments": {},
   "cell_type": "markdown",
   "metadata": {},
   "source": [
    "-> Single female customers in the range of 35-44 potential to develop marketing"
   ]
  },
  {
   "cell_type": "code",
   "execution_count": 111,
   "metadata": {},
   "outputs": [
    {
     "data": {
      "text/plain": [
       "YearlyIncome_x\n",
       "£70,000     4483925.0\n",
       "£60,000     4230016.0\n",
       "£40,000     4226106.0\n",
       "£30,000     2921909.0\n",
       "£80,000     2391296.0\n",
       "£90,000     2066890.0\n",
       "£20,000     2010377.0\n",
       "£10,000     1396156.0\n",
       "£130,000    1192864.0\n",
       "£100,000    1072927.0\n",
       "£110,000    1019440.0\n",
       "£50,000      805423.0\n",
       "£120,000     760552.0\n",
       "£170,000     325268.0\n",
       "£150,000     241456.0\n",
       "£160,000     211105.0\n",
       "Name: SalesAmount, dtype: float64"
      ]
     },
     "execution_count": 111,
     "metadata": {},
     "output_type": "execute_result"
    }
   ],
   "source": [
    "Customer_YearlyIncome = df.groupby('YearlyIncome_x')['SalesAmount'].sum().sort_values(ascending=False)\n",
    "Customer_YearlyIncome"
   ]
  },
  {
   "cell_type": "code",
   "execution_count": 89,
   "metadata": {},
   "outputs": [
    {
     "data": {
      "image/png": "[encoded data removed]",
      "text/plain": [
       "<Figure size 640x480 with 1 Axes>"
      ]
     },
     "metadata": {},
     "output_type": "display_data"
    }
   ],
   "source": [
    "Customer_YearlyIncome.plot(kind='bar')\n",
    "\n",
    "plt.xlabel('Customer Yearly Income')\n",
    "plt.ylabel('Total Sales Amount')\n",
    "\n",
    "plt.show()"
   ]
  },
  {
   "attachments": {},
   "cell_type": "markdown",
   "metadata": {},
   "source": [
    "-> Customer with Yearly Income range of £40000 - £70000 is potential to develop marketing"
   ]
  },
  {
   "attachments": {},
   "cell_type": "markdown",
   "metadata": {},
   "source": [
    "###  2. Increasing the repurchase rate"
   ]
  },
  {
   "attachments": {},
   "cell_type": "markdown",
   "metadata": {},
   "source": [
    "    To increase the rate of repurchase, we can offer promotions, gifts, discounts to loyal customers and customers who have not made a purchase in a while."
   ]
  },
  {
   "attachments": {},
   "cell_type": "markdown",
   "metadata": {},
   "source": [
    "#### Finding loyal customers who have purchased more than 30 orders in the last 2 years"
   ]
  },
  {
   "cell_type": "code",
   "execution_count": 71,
   "metadata": {},
   "outputs": [],
   "source": [
    "sales['OrderDate'] = pd.to_datetime(sales['OrderDate'])\n",
    "sales_2013_2014 = sales[(sales['OrderDate'].dt.year == 2013) | (sales['OrderDate'].dt.year == 2014)]"
   ]
  },
  {
   "cell_type": "code",
   "execution_count": 72,
   "metadata": {},
   "outputs": [
    {
     "data": {
      "text/plain": [
       "CustomerKey\n",
       "11000     7\n",
       "11001    10\n",
       "11002     2\n",
       "11003     8\n",
       "11004     5\n",
       "Name: OrderDate, dtype: int64"
      ]
     },
     "execution_count": 72,
     "metadata": {},
     "output_type": "execute_result"
    }
   ],
   "source": [
    "purchase_counts = sales_2013_2014.groupby('CustomerKey')['OrderDate'].count()\n",
    "purchase_counts.head()"
   ]
  },
  {
   "cell_type": "code",
   "execution_count": 73,
   "metadata": {},
   "outputs": [
    {
     "data": {
      "text/plain": [
       "CustomerKey\n",
       "11019    33\n",
       "11078    31\n",
       "11091    59\n",
       "11142    36\n",
       "11176    60\n",
       "Name: OrderDate, dtype: int64"
      ]
     },
     "execution_count": 73,
     "metadata": {},
     "output_type": "execute_result"
    }
   ],
   "source": [
    "loyal_customers = purchase_counts[purchase_counts > 10]\n",
    "loyal_customers.head()"
   ]
  },
  {
   "attachments": {},
   "cell_type": "markdown",
   "metadata": {},
   "source": [
    "####  Finding customers who have not made a purchase in a while?"
   ]
  },
  {
   "cell_type": "code",
   "execution_count": 124,
   "metadata": {},
   "outputs": [
    {
     "data": {
      "text/plain": [
       "CustomerKey\n",
       "11000   2013-05-03\n",
       "11001   2013-12-10\n",
       "11002   2013-02-23\n",
       "11003   2013-05-10\n",
       "11004   2013-05-01\n",
       "Name: OrderDate, dtype: datetime64[ns]"
      ]
     },
     "execution_count": 124,
     "metadata": {},
     "output_type": "execute_result"
    }
   ],
   "source": [
    "last_purchase_date = sales.groupby('CustomerKey')['OrderDate'].max()\n",
    "last_purchase_date.head()"
   ]
  },
  {
   "cell_type": "code",
   "execution_count": 129,
   "metadata": {},
   "outputs": [
    {
     "data": {
      "text/plain": [
       "CustomerKey\n",
       "11000   271 days\n",
       "11001    50 days\n",
       "11002   340 days\n",
       "11003   264 days\n",
       "11004   273 days\n",
       "Name: OrderDate, dtype: timedelta64[ns]"
      ]
     },
     "execution_count": 129,
     "metadata": {},
     "output_type": "execute_result"
    }
   ],
   "source": [
    "days_since_last_purchase = pd.to_datetime('2014-01-29') - last_purchase_date\n",
    "days_since_last_purchase.head()"
   ]
  }
 ],
 "metadata": {
  "kernelspec": {
   "display_name": "Python 3",
   "language": "python",
   "name": "python3"
  },
  "language_info": {
   "codemirror_mode": {
    "name": "ipython",
    "version": 3
   },
   "file_extension": ".py",
   "mimetype": "text/x-python",
   "name": "python",
   "nbconvert_exporter": "python",
   "pygments_lexer": "ipython3",
   "version": "3.11.2"
  },
  "orig_nbformat": 4
 },
 "nbformat": 4,
 "nbformat_minor": 2
}
